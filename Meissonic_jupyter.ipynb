{
  "cells": [
    {
      "cell_type": "markdown",
      "metadata": {
        "id": "view-in-github"
      },
      "source": [
        "[![Open In Colab](https://colab.research.google.com/assets/colab-badge.svg)](https://colab.research.google.com/github/camenduru/Meissonic-jupyter/blob/main/Meissonic_jupyter.ipynb)"
      ]
    },
    {
      "cell_type": "code",
      "execution_count": null,
      "metadata": {
        "id": "VjYy0F2gZIPR"
      },
      "outputs": [],
      "source": [
        "%cd /content\n",
        "!git clone --recursive https://github.com/viiika/Meissonic\n",
        "!pip install git+https://github.com/huggingface/diffusers\n",
        "\n",
        "%cd /content/Meissonic\n",
        "\n",
        "import torch\n",
        "from torchvision import transforms\n",
        "from src.transformer import Transformer2DModel\n",
        "from src.pipeline import Pipeline\n",
        "from src.scheduler import Scheduler\n",
        "from transformers import (CLIPTextModelWithProjection, CLIPTokenizer)\n",
        "from diffusers import VQModel\n",
        "\n",
        "model_path = \"/content/Meissonic/Meissonic\"\n",
        "model = Transformer2DModel.from_pretrained(model_path, subfolder=\"transformer\")\n",
        "vq_model = VQModel.from_pretrained(model_path, subfolder=\"vqvae\")\n",
        "text_encoder = CLIPTextModelWithProjection.from_pretrained(\"laion/CLIP-ViT-H-14-laion2B-s32B-b79K\")\n",
        "tokenizer = CLIPTokenizer.from_pretrained(model_path, subfolder=\"tokenizer\")\n",
        "scheduler = Scheduler.from_pretrained(model_path, subfolder=\"scheduler\")\n",
        "pipe = Pipeline(vq_model, tokenizer=tokenizer, text_encoder=text_encoder, transformer=model, scheduler=scheduler).to('cuda')"
      ]
    },
    {
      "cell_type": "code",
      "execution_count": null,
      "metadata": {},
      "outputs": [],
      "source": [
        "image = pipe(prompt=\"cat\").images[0]\n",
        "image"
      ]
    }
  ],
  "metadata": {
    "accelerator": "GPU",
    "colab": {
      "gpuType": "T4",
      "provenance": []
    },
    "kernelspec": {
      "display_name": "Python 3",
      "name": "python3"
    },
    "language_info": {
      "name": "python"
    }
  },
  "nbformat": 4,
  "nbformat_minor": 0
}
